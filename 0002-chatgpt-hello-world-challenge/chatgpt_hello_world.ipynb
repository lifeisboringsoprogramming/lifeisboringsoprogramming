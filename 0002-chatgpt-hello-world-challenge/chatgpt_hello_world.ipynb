{
  "nbformat": 4,
  "nbformat_minor": 0,
  "metadata": {
    "colab": {
      "provenance": [],
      "include_colab_link": true
    },
    "kernelspec": {
      "name": "python3",
      "display_name": "Python 3"
    },
    "language_info": {
      "name": "python"
    }
  },
  "cells": [
    {
      "cell_type": "markdown",
      "metadata": {
        "id": "view-in-github",
        "colab_type": "text"
      },
      "source": [
        "<a href=\"https://colab.research.google.com/github/lifeisboringsoprogramming/lifeisboringsoprogramming/blob/main/0002-chatgpt-hello-world-challenge/chatgpt_hello_world.ipynb\" target=\"_parent\"><img src=\"https://colab.research.google.com/assets/colab-badge.svg\" alt=\"Open In Colab\"/></a>"
      ]
    },
    {
      "cell_type": "markdown",
      "source": [
        "[![How to write a hello world program using TTS AI model](https://img.youtube.com/vi/Ce3VPdHeFxs/sddefault.jpg)](https://www.youtube.com/watch?v=Ce3VPdHeFxs)\n"
      ],
      "metadata": {
        "id": "YTSOxGYzTfFx"
      }
    },
    {
      "cell_type": "markdown",
      "source": [
        "Try [ChatGPT](https://chat.openai.com/chat)"
      ],
      "metadata": {
        "id": "cAFNf9_RDgDB"
      }
    }
  ]
}